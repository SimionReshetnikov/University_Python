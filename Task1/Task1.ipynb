{
  "nbformat": 4,
  "nbformat_minor": 0,
  "metadata": {
    "colab": {
      "provenance": []
    },
    "kernelspec": {
      "name": "python3",
      "display_name": "Python 3"
    },
    "language_info": {
      "name": "python"
    }
  },
  "cells": [
    {
      "cell_type": "code",
      "execution_count": 6,
      "metadata": {
        "colab": {
          "base_uri": "https://localhost:8080/"
        },
        "id": "eOGfRFzQDSgV",
        "outputId": "8745fd26-7248-49d8-c44a-1065562c94c5"
      },
      "outputs": [
        {
          "output_type": "stream",
          "name": "stdout",
          "text": [
            "Введите число: -8\n",
            "-1\n"
          ]
        }
      ],
      "source": [
        "def getMaxValue(b, c):\n",
        "  a = int(input(\"Введите число: \"))\n",
        "  if a < 0:\n",
        "    return -1\n",
        "  else:\n",
        "    return max(a, b, c)\n",
        "\n",
        "result = getMaxValue(10, 5)\n",
        "print(result)\n"
      ]
    },
    {
      "cell_type": "markdown",
      "source": [],
      "metadata": {
        "id": "Vl4ZMkG2DVoL"
      }
    },
    {
      "cell_type": "markdown",
      "source": [],
      "metadata": {
        "id": "s1piWrQoJADV"
      }
    }
  ]
}